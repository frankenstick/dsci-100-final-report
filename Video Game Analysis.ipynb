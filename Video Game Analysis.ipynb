{
 "cells": [
  {
   "cell_type": "markdown",
   "id": "79ac5959-5051-49ef-b2e2-4c00cbd85c1f",
   "metadata": {},
   "source": [
    "# Final Project Analysis\n",
    "\n",
    "\n",
    "\n"
   ]
  },
  {
   "cell_type": "code",
   "execution_count": 7,
   "id": "ed7a045c-361d-4df1-8efd-87355bf9918b",
   "metadata": {},
   "outputs": [],
   "source": [
    "### Run this cell before continuing. \n",
    "library(tidyverse)\n",
    "library(repr)\n",
    "options(repr.matrix.max.rows = 6)"
   ]
  },
  {
   "cell_type": "code",
   "execution_count": 10,
   "id": "fe4cc15b-a8df-4f7f-8a97-cff06d0447a7",
   "metadata": {},
   "outputs": [
    {
     "name": "stderr",
     "output_type": "stream",
     "text": [
      "\u001b[1mRows: \u001b[22m\u001b[34m196\u001b[39m \u001b[1mColumns: \u001b[22m\u001b[34m7\u001b[39m\n",
      "\u001b[36m──\u001b[39m \u001b[1mColumn specification\u001b[22m \u001b[36m────────────────────────────────────────────────────────\u001b[39m\n",
      "\u001b[1mDelimiter:\u001b[22m \",\"\n",
      "\u001b[31mchr\u001b[39m (4): experience, hashedEmail, name, gender\n",
      "\u001b[32mdbl\u001b[39m (2): played_hours, Age\n",
      "\u001b[33mlgl\u001b[39m (1): subscribe\n",
      "\n",
      "\u001b[36mℹ\u001b[39m Use `spec()` to retrieve the full column specification for this data.\n",
      "\u001b[36mℹ\u001b[39m Specify the column types or set `show_col_types = FALSE` to quiet this message.\n"
     ]
    },
    {
     "data": {
      "text/html": [
       "<table class=\"dataframe\">\n",
       "<caption>A spec_tbl_df: 196 × 7</caption>\n",
       "<thead>\n",
       "\t<tr><th scope=col>experience</th><th scope=col>subscribe</th><th scope=col>hashedEmail</th><th scope=col>played_hours</th><th scope=col>name</th><th scope=col>gender</th><th scope=col>Age</th></tr>\n",
       "\t<tr><th scope=col>&lt;chr&gt;</th><th scope=col>&lt;lgl&gt;</th><th scope=col>&lt;chr&gt;</th><th scope=col>&lt;dbl&gt;</th><th scope=col>&lt;chr&gt;</th><th scope=col>&lt;chr&gt;</th><th scope=col>&lt;dbl&gt;</th></tr>\n",
       "</thead>\n",
       "<tbody>\n",
       "\t<tr><td>Pro    </td><td> TRUE</td><td>f6daba428a5e19a3d47574858c13550499be23603422e6a0ee9728f8b53e192d</td><td>30.3</td><td>Morgan   </td><td>Male</td><td> 9</td></tr>\n",
       "\t<tr><td>Veteran</td><td> TRUE</td><td>f3c813577c458ba0dfef80996f8f32c93b6e8af1fa939732842f2312358a88e9</td><td> 3.8</td><td>Christian</td><td>Male</td><td>17</td></tr>\n",
       "\t<tr><td>Veteran</td><td>FALSE</td><td>b674dd7ee0d24096d1c019615ce4d12b20fcbff12d79d3c5a9d2118eb7ccbb28</td><td> 0.0</td><td>Blake    </td><td>Male</td><td>17</td></tr>\n",
       "\t<tr><td>⋮</td><td>⋮</td><td>⋮</td><td>⋮</td><td>⋮</td><td>⋮</td><td>⋮</td></tr>\n",
       "\t<tr><td>Amateur</td><td>FALSE</td><td>d572f391d452b76ea2d7e5e53a3d38bfd7499c7399db299bd4fedb06a46ad5bb</td><td>0.0</td><td>Dylan </td><td>Prefer not to say</td><td>17</td></tr>\n",
       "\t<tr><td>Amateur</td><td>FALSE</td><td>f19e136ddde68f365afc860c725ccff54307dedd13968e896a9f890c40aea436</td><td>2.3</td><td>Harlow</td><td>Male             </td><td>17</td></tr>\n",
       "\t<tr><td>Pro    </td><td> TRUE</td><td>d9473710057f7d42f36570f0be83817a4eea614029ff90cf50d8889cdd729d11</td><td>0.2</td><td>Ahmed </td><td>Other            </td><td>NA</td></tr>\n",
       "</tbody>\n",
       "</table>\n"
      ],
      "text/latex": [
       "A spec\\_tbl\\_df: 196 × 7\n",
       "\\begin{tabular}{lllllll}\n",
       " experience & subscribe & hashedEmail & played\\_hours & name & gender & Age\\\\\n",
       " <chr> & <lgl> & <chr> & <dbl> & <chr> & <chr> & <dbl>\\\\\n",
       "\\hline\n",
       "\t Pro     &  TRUE & f6daba428a5e19a3d47574858c13550499be23603422e6a0ee9728f8b53e192d & 30.3 & Morgan    & Male &  9\\\\\n",
       "\t Veteran &  TRUE & f3c813577c458ba0dfef80996f8f32c93b6e8af1fa939732842f2312358a88e9 &  3.8 & Christian & Male & 17\\\\\n",
       "\t Veteran & FALSE & b674dd7ee0d24096d1c019615ce4d12b20fcbff12d79d3c5a9d2118eb7ccbb28 &  0.0 & Blake     & Male & 17\\\\\n",
       "\t ⋮ & ⋮ & ⋮ & ⋮ & ⋮ & ⋮ & ⋮\\\\\n",
       "\t Amateur & FALSE & d572f391d452b76ea2d7e5e53a3d38bfd7499c7399db299bd4fedb06a46ad5bb & 0.0 & Dylan  & Prefer not to say & 17\\\\\n",
       "\t Amateur & FALSE & f19e136ddde68f365afc860c725ccff54307dedd13968e896a9f890c40aea436 & 2.3 & Harlow & Male              & 17\\\\\n",
       "\t Pro     &  TRUE & d9473710057f7d42f36570f0be83817a4eea614029ff90cf50d8889cdd729d11 & 0.2 & Ahmed  & Other             & NA\\\\\n",
       "\\end{tabular}\n"
      ],
      "text/markdown": [
       "\n",
       "A spec_tbl_df: 196 × 7\n",
       "\n",
       "| experience &lt;chr&gt; | subscribe &lt;lgl&gt; | hashedEmail &lt;chr&gt; | played_hours &lt;dbl&gt; | name &lt;chr&gt; | gender &lt;chr&gt; | Age &lt;dbl&gt; |\n",
       "|---|---|---|---|---|---|---|\n",
       "| Pro     |  TRUE | f6daba428a5e19a3d47574858c13550499be23603422e6a0ee9728f8b53e192d | 30.3 | Morgan    | Male |  9 |\n",
       "| Veteran |  TRUE | f3c813577c458ba0dfef80996f8f32c93b6e8af1fa939732842f2312358a88e9 |  3.8 | Christian | Male | 17 |\n",
       "| Veteran | FALSE | b674dd7ee0d24096d1c019615ce4d12b20fcbff12d79d3c5a9d2118eb7ccbb28 |  0.0 | Blake     | Male | 17 |\n",
       "| ⋮ | ⋮ | ⋮ | ⋮ | ⋮ | ⋮ | ⋮ |\n",
       "| Amateur | FALSE | d572f391d452b76ea2d7e5e53a3d38bfd7499c7399db299bd4fedb06a46ad5bb | 0.0 | Dylan  | Prefer not to say | 17 |\n",
       "| Amateur | FALSE | f19e136ddde68f365afc860c725ccff54307dedd13968e896a9f890c40aea436 | 2.3 | Harlow | Male              | 17 |\n",
       "| Pro     |  TRUE | d9473710057f7d42f36570f0be83817a4eea614029ff90cf50d8889cdd729d11 | 0.2 | Ahmed  | Other             | NA |\n",
       "\n"
      ],
      "text/plain": [
       "    experience subscribe\n",
       "1   Pro         TRUE    \n",
       "2   Veteran     TRUE    \n",
       "3   Veteran    FALSE    \n",
       "⋮   ⋮          ⋮        \n",
       "194 Amateur    FALSE    \n",
       "195 Amateur    FALSE    \n",
       "196 Pro         TRUE    \n",
       "    hashedEmail                                                     \n",
       "1   f6daba428a5e19a3d47574858c13550499be23603422e6a0ee9728f8b53e192d\n",
       "2   f3c813577c458ba0dfef80996f8f32c93b6e8af1fa939732842f2312358a88e9\n",
       "3   b674dd7ee0d24096d1c019615ce4d12b20fcbff12d79d3c5a9d2118eb7ccbb28\n",
       "⋮   ⋮                                                               \n",
       "194 d572f391d452b76ea2d7e5e53a3d38bfd7499c7399db299bd4fedb06a46ad5bb\n",
       "195 f19e136ddde68f365afc860c725ccff54307dedd13968e896a9f890c40aea436\n",
       "196 d9473710057f7d42f36570f0be83817a4eea614029ff90cf50d8889cdd729d11\n",
       "    played_hours name      gender            Age\n",
       "1   30.3         Morgan    Male               9 \n",
       "2    3.8         Christian Male              17 \n",
       "3    0.0         Blake     Male              17 \n",
       "⋮   ⋮            ⋮         ⋮                 ⋮  \n",
       "194 0.0          Dylan     Prefer not to say 17 \n",
       "195 2.3          Harlow    Male              17 \n",
       "196 0.2          Ahmed     Other             NA "
      ]
     },
     "metadata": {},
     "output_type": "display_data"
    }
   ],
   "source": [
    "game_data <- read_csv (\"data/players.csv\")\n",
    "game_data"
   ]
  },
  {
   "cell_type": "markdown",
   "id": "df8fd16c-b6e3-43b7-8960-30b0e1ffc440",
   "metadata": {},
   "source": [
    "**Activity #1: Explore Datasets - Preliminary**\n",
    "\n",
    "Using what you have learnt in weeks 1-4, read the dataset, take a look at it, and write a short description about the dataset.\n",
    "\n",
    "Some questions you should try to answer:\n",
    "What is the dataset about?\n",
    "How many variables are there?\n",
    "How many observations are there?"
   ]
  },
  {
   "cell_type": "markdown",
   "id": "66cf50e8-85ff-4e8d-bffb-1eba43405384",
   "metadata": {},
   "source": [
    "data set is about... there are 7 variables, which includes.... there are ... observations..."
   ]
  },
  {
   "cell_type": "markdown",
   "id": "1083f2ca-361c-4127-8ae2-61f68d20a5ff",
   "metadata": {},
   "source": [
    "\n",
    "**Activity #2: Explore Datasets Part 2 - Outcome Variable**\n",
    "\n",
    "Try to answer these questions now:\n",
    "Identify the main outcome/categorical/label variable in the dataset.\n",
    "\n",
    "How many values/groups are in this variable?\n",
    "How many observations are there in each value/group?\n",
    "\n",
    "Tip: Think about how you are organising your workbook: add more code and markdown cells (and arranged them!) to keep your notebook neat\n"
   ]
  },
  {
   "cell_type": "markdown",
   "id": "1ed7762b-7bb1-470c-9166-b37f7723db46",
   "metadata": {},
   "source": []
  },
  {
   "cell_type": "markdown",
   "id": "b495fe93-ef24-49f9-9c97-da886ade3a76",
   "metadata": {},
   "source": [
    "**Activity #3: Explore Datasets Part 3 - Visualisations!**\n",
    "\n",
    "Make some visualisations of the outcome variable:\n",
    "\n",
    "What does the distribution of the variable look like?\n",
    "What relationship does it have with some of the other variables?\n",
    "Tip: Try using a range of box plots, scatterplots, bar charts, line graphs, etc."
   ]
  },
  {
   "cell_type": "markdown",
   "id": "d024d1a9-26b3-47b6-a6fa-9fd8101d695b",
   "metadata": {},
   "source": []
  },
  {
   "cell_type": "markdown",
   "id": "f9348ae6-2d24-4ca0-86e2-f232a479c7d4",
   "metadata": {},
   "source": [
    "**Question: What player characteristics and behaviours are most predictive of subscribing to a game-related newsletter, and how do these features differ between various player types?**"
   ]
  },
  {
   "cell_type": "code",
   "execution_count": null,
   "id": "81fecd93-5e2d-4372-ab55-ecdfe768d7c6",
   "metadata": {},
   "outputs": [],
   "source": []
  },
  {
   "cell_type": "code",
   "execution_count": null,
   "id": "d6c0131c-e957-451d-aaad-38169c04c735",
   "metadata": {},
   "outputs": [],
   "source": []
  },
  {
   "cell_type": "code",
   "execution_count": null,
   "id": "13e9162c-a970-482b-93d3-c9458620811b",
   "metadata": {},
   "outputs": [],
   "source": []
  },
  {
   "cell_type": "code",
   "execution_count": 6,
   "id": "3688ba70-27bc-41a0-8b71-8c94730de564",
   "metadata": {},
   "outputs": [],
   "source": [
    "# source(\"cleanup.R\")??"
   ]
  }
 ],
 "metadata": {
  "kernelspec": {
   "display_name": "R",
   "language": "R",
   "name": "ir"
  },
  "language_info": {
   "codemirror_mode": "r",
   "file_extension": ".r",
   "mimetype": "text/x-r-source",
   "name": "R",
   "pygments_lexer": "r",
   "version": "4.3.3"
  }
 },
 "nbformat": 4,
 "nbformat_minor": 5
}
